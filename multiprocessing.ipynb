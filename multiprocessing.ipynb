{
 "cells": [
  {
   "cell_type": "code",
   "execution_count": 16,
   "id": "e6288f7c-1175-46cb-92a2-abc974832c0b",
   "metadata": {},
   "outputs": [
    {
     "name": "stdout",
     "output_type": "stream",
     "text": [
      "It is currently 21:12:48\n",
      "It is currently 21:12:48\n",
      "It is currently 21:12:49\n",
      "Completed\n"
     ]
    }
   ],
   "source": [
    "import multiprocessing\n",
    "from datetime import datetime\n",
    "import time\n",
    "import random\n",
    "\n",
    "#print the current time\n",
    "def print_time():\n",
    "    #get current time\n",
    "    now = datetime.now()\n",
    "    #convert to just hours, minutes, and seconds\n",
    "    current_time = now.strftime(\"%H:%M:%S\")\n",
    "    #print\n",
    "    print(\"It is currently\",current_time)\n",
    "    #wait 0-1 seconds\n",
    "    time.sleep(random.random())\n",
    "\n",
    "#print time multiprocessing\n",
    "if __name__ == '__main__':\n",
    "    #define processes\n",
    "    process1 = multiprocessing.Process(target=print_time())\n",
    "    process2 = multiprocessing.Process(target=print_time())\n",
    "    process3 = multiprocessing.Process(target=print_time())\n",
    "    #start processes\n",
    "    process1.start()\n",
    "    process2.start()\n",
    "    process3.start()\n",
    "    process1.join()\n",
    "    process2.join()\n",
    "    process3.join()\n",
    "\n",
    "    print('Completed')"
   ]
  },
  {
   "cell_type": "code",
   "execution_count": null,
   "id": "a1636b0a-aafe-46a1-84f8-64360dbdb4d1",
   "metadata": {},
   "outputs": [],
   "source": []
  }
 ],
 "metadata": {
  "kernelspec": {
   "display_name": "Python 3 (ipykernel)",
   "language": "python",
   "name": "python3"
  },
  "language_info": {
   "codemirror_mode": {
    "name": "ipython",
    "version": 3
   },
   "file_extension": ".py",
   "mimetype": "text/x-python",
   "name": "python",
   "nbconvert_exporter": "python",
   "pygments_lexer": "ipython3",
   "version": "3.11.5"
  }
 },
 "nbformat": 4,
 "nbformat_minor": 5
}
