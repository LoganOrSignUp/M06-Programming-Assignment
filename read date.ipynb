{
 "cells": [
  {
   "cell_type": "code",
   "execution_count": 1,
   "id": "464cc60a-cf12-4559-b3c4-b01701a2a0bb",
   "metadata": {},
   "outputs": [
    {
     "name": "stdout",
     "output_type": "stream",
     "text": [
      "2024-02-19\n"
     ]
    }
   ],
   "source": [
    "import datetime\n",
    "\n",
    "#open today.txt\n",
    "todayTXT = open(\"today.txt\")\n",
    "\n",
    "#read today.txt into today_string\n",
    "today_string = todayTXT.read()\n",
    "\n",
    "#convert today_string into a date format\n",
    "todays_date = datetime.datetime.strptime(today_string, '%m/%d/%Y').date()\n",
    "\n",
    "#print today's date\n",
    "print(todays_date)"
   ]
  }
 ],
 "metadata": {
  "kernelspec": {
   "display_name": "Python 3 (ipykernel)",
   "language": "python",
   "name": "python3"
  },
  "language_info": {
   "codemirror_mode": {
    "name": "ipython",
    "version": 3
   },
   "file_extension": ".py",
   "mimetype": "text/x-python",
   "name": "python",
   "nbconvert_exporter": "python",
   "pygments_lexer": "ipython3",
   "version": "3.11.5"
  }
 },
 "nbformat": 4,
 "nbformat_minor": 5
}
